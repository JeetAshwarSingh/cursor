{
 "cells": [
  {
   "cell_type": "code",
   "execution_count": 26,
   "id": "ee0a331e",
   "metadata": {},
   "outputs": [],
   "source": [
    "import fitz as fz"
   ]
  },
  {
   "cell_type": "code",
   "execution_count": 3,
   "id": "9a5cdf2d",
   "metadata": {},
   "outputs": [],
   "source": [
    "lis1 = [chr(i) for i in range (97,123)]"
   ]
  },
  {
   "cell_type": "code",
   "execution_count": 4,
   "id": "1171f922",
   "metadata": {},
   "outputs": [],
   "source": [
    "dict1 = dict()\n",
    "for i in range (1,len(lis1)+1):\n",
    "    dict1[lis1[i-1]] = i"
   ]
  },
  {
   "cell_type": "code",
   "execution_count": 16,
   "id": "849aad63",
   "metadata": {},
   "outputs": [],
   "source": [
    "def sum_of_number(string):\n",
    "    temp_list = list()\n",
    "    temp_list += string\n",
    "    try :\n",
    "        sum = 0\n",
    "        for element in temp_list:\n",
    "            sum += dict1[element]\n",
    "        return sum\n",
    "    except:\n",
    "        return None"
   ]
  },
  {
   "cell_type": "code",
   "execution_count": 6,
   "id": "65de7733",
   "metadata": {},
   "outputs": [
    {
     "data": {
      "text/plain": [
       "52"
      ]
     },
     "execution_count": 6,
     "metadata": {},
     "output_type": "execute_result"
    }
   ],
   "source": [
    "sum_of_number('hello')"
   ]
  },
  {
   "cell_type": "code",
   "execution_count": 8,
   "id": "39484708",
   "metadata": {},
   "outputs": [],
   "source": [
    "file = fz.open('dark.pdf')\n",
    "doc = file"
   ]
  },
  {
   "cell_type": "code",
   "execution_count": null,
   "id": "f13aeb9f",
   "metadata": {},
   "outputs": [],
   "source": [
    "extracted_text = \"\"\n",
    "for page_num in range(doc.page_count):\n",
    "    page = doc.load_page(page_num)  \n",
    "    extracted_text += page.get_text() "
   ]
  },
  {
   "cell_type": "code",
   "execution_count": null,
   "id": "8b74ea0a",
   "metadata": {},
   "outputs": [],
   "source": [
    "doc_list = list()\n",
    "doc_list = extracted_text.split(\" \")\n"
   ]
  },
  {
   "cell_type": "code",
   "execution_count": 22,
   "id": "ba02e540",
   "metadata": {},
   "outputs": [],
   "source": [
    "dict_of_sum = dict()\n",
    "for element in doc_list:\n",
    "    dict_of_sum[element] = sum_of_number(element)"
   ]
  },
  {
   "cell_type": "code",
   "execution_count": 23,
   "id": "1779e24e",
   "metadata": {},
   "outputs": [],
   "source": [
    "dict_of_sum2 =dict()\n",
    "for element in dict_of_sum.keys():\n",
    "    if dict_of_sum[element] == 100:\n",
    "        dict_of_sum2[element] = 100"
   ]
  },
  {
   "cell_type": "code",
   "execution_count": 24,
   "id": "163033f8",
   "metadata": {},
   "outputs": [
    {
     "data": {
      "text/plain": [
       "{'contented': 100,\n",
       " 'problems': 100,\n",
       " 'writing': 100,\n",
       " 'towards': 100,\n",
       " 'twisted': 100,\n",
       " 'acknowledge': 100,\n",
       " 'referring': 100,\n",
       " 'personal': 100,\n",
       " 'unavailable': 100,\n",
       " 'primary': 100,\n",
       " 'surely': 100,\n",
       " 'therefore': 100,\n",
       " 'status': 100,\n",
       " 'culture': 100,\n",
       " 'services': 100,\n",
       " 'maximize': 100,\n",
       " 'pouring': 100,\n",
       " 'attitude': 100,\n",
       " 'responded': 100,\n",
       " 'identifies': 100,\n",
       " 'whenever': 100,\n",
       " 'applying': 100,\n",
       " 'likelihood': 100,\n",
       " 'distancing': 100,\n",
       " 'selective': 100,\n",
       " 'shattered': 100,\n",
       " 'resolved': 100,\n",
       " 'roadblocks': 100,\n",
       " 'posting': 100}"
      ]
     },
     "execution_count": 24,
     "metadata": {},
     "output_type": "execute_result"
    }
   ],
   "source": [
    "dict_of_sum2"
   ]
  },
  {
   "cell_type": "code",
   "execution_count": 35,
   "id": "3362f71c",
   "metadata": {},
   "outputs": [],
   "source": [
    "final_list = dict_of_sum2.keys()"
   ]
  },
  {
   "cell_type": "code",
   "execution_count": 42,
   "id": "0cc6331c",
   "metadata": {},
   "outputs": [],
   "source": [
    "check_list = list()\n",
    "check_list = list(map(sum_of_number,final_list))"
   ]
  },
  {
   "cell_type": "code",
   "execution_count": 43,
   "id": "55a74885",
   "metadata": {},
   "outputs": [
    {
     "data": {
      "text/plain": [
       "[100,\n",
       " 100,\n",
       " 100,\n",
       " 100,\n",
       " 100,\n",
       " 100,\n",
       " 100,\n",
       " 100,\n",
       " 100,\n",
       " 100,\n",
       " 100,\n",
       " 100,\n",
       " 100,\n",
       " 100,\n",
       " 100,\n",
       " 100,\n",
       " 100,\n",
       " 100,\n",
       " 100,\n",
       " 100,\n",
       " 100,\n",
       " 100,\n",
       " 100,\n",
       " 100,\n",
       " 100,\n",
       " 100,\n",
       " 100,\n",
       " 100,\n",
       " 100]"
      ]
     },
     "execution_count": 43,
     "metadata": {},
     "output_type": "execute_result"
    }
   ],
   "source": [
    "check_list"
   ]
  }
 ],
 "metadata": {
  "kernelspec": {
   "display_name": "Python 3",
   "language": "python",
   "name": "python3"
  },
  "language_info": {
   "codemirror_mode": {
    "name": "ipython",
    "version": 3
   },
   "file_extension": ".py",
   "mimetype": "text/x-python",
   "name": "python",
   "nbconvert_exporter": "python",
   "pygments_lexer": "ipython3",
   "version": "3.13.5"
  }
 },
 "nbformat": 4,
 "nbformat_minor": 5
}
